{
 "cells": [
  {
   "cell_type": "code",
   "execution_count": 1,
   "id": "9f18d625-e74f-482a-9232-7ac8d7b16efb",
   "metadata": {},
   "outputs": [
    {
     "name": "stdout",
     "output_type": "stream",
     "text": [
      "Defaulting to user installation because normal site-packages is not writeable\n",
      "Requirement already satisfied: requests in ./Library/Python/3.9/lib/python/site-packages (2.32.3)\n",
      "Requirement already satisfied: charset-normalizer<4,>=2 in ./Library/Python/3.9/lib/python/site-packages (from requests) (3.4.0)\n",
      "Requirement already satisfied: idna<4,>=2.5 in ./Library/Python/3.9/lib/python/site-packages (from requests) (3.10)\n",
      "Requirement already satisfied: urllib3<3,>=1.21.1 in ./Library/Python/3.9/lib/python/site-packages (from requests) (1.26.20)\n",
      "Requirement already satisfied: certifi>=2017.4.17 in ./Library/Python/3.9/lib/python/site-packages (from requests) (2024.8.30)\n"
     ]
    }
   ],
   "source": [
    "!pip install requests\n"
   ]
  },
  {
   "cell_type": "code",
   "execution_count": null,
   "id": "d92c3115-615e-4f5e-be84-3002a37e2ddd",
   "metadata": {},
   "outputs": [
    {
     "name": "stdout",
     "output_type": "stream",
     "text": [
      "💬 Hi there! I’m your friendly chatbot with a sense of humor. Type 'return policy' if you need info, or ask me anything else. Type 'exit' to leave.\n",
      "\n"
     ]
    }
   ],
   "source": [
    "import requests\n",
    "\n",
    "# API Key Setup\n",
    "XAI_API_KEY = \"your_api_key_here\"\n",
    "\n",
    "# Sentiment Analysis to detect user frustration\n",
    "def analyze_sentiment(user_message):\n",
    "    negative_keywords = [\"angry\", \"upset\", \"frustrated\", \"unhappy\", \"bad\", \"disappointed\", \"delay\", \"refund issue\"]\n",
    "    if any(word in user_message.lower() for word in negative_keywords):\n",
    "        return \"negative\"\n",
    "    return \"neutral\"\n",
    "\n",
    "# Proactive Suggestions for Complex Queries\n",
    "def suggest_next_steps(query):\n",
    "    if \"return policy\" in query.lower():\n",
    "        return \"If you’d like, I can explain the return process step-by-step or provide the address for returns.\"\n",
    "    elif \"refund\" in query.lower():\n",
    "        return \"Refunds typically take 7–10 days to process. If it’s been longer, I can help escalate this for you.\"\n",
    "    return None\n",
    "\n",
    "# Chatbot Response with Personality and Proactive Suggestions\n",
    "def chatbot_response(user_message):\n",
    "    sentiment = analyze_sentiment(user_message)\n",
    "    \n",
    "    # Pre-response for negative sentiment\n",
    "    if sentiment == \"negative\":\n",
    "        return (\n",
    "            \"I’m really sorry to hear that you’re upset. Let me do my best to help! \"\n",
    "            \"Could you provide more details so we can get this resolved quickly?\"\n",
    "        )\n",
    "    \n",
    "    # Default response using xAI API\n",
    "    url = \"https://api.x.ai/v1/chat/completions\"\n",
    "    headers = {\n",
    "        \"Content-Type\": \"application/json\",\n",
    "        \"Authorization\": f\"Bearer {XAI_API_KEY}\"\n",
    "    }\n",
    "    data = {\n",
    "        \"messages\": [\n",
    "            {\n",
    "                \"role\": \"system\",\n",
    "                \"content\": (\n",
    "                    \"You are a friendly and empathetic customer support assistant. \"\n",
    "                    \"Respond with a touch of humor and concise, human-like explanations. Be proactive and warm.\"\n",
    "                )\n",
    "            },\n",
    "            {\n",
    "                \"role\": \"user\",\n",
    "                \"content\": user_message\n",
    "            }\n",
    "        ],\n",
    "        \"model\": \"grok-beta\",\n",
    "        \"temperature\": 0.8\n",
    "    }\n",
    "\n",
    "    try:\n",
    "        response = requests.post(url, headers=headers, json=data).json()\n",
    "        chatbot_reply = response[\"choices\"][0][\"message\"][\"content\"].strip()\n",
    "        \n",
    "        # Add proactive suggestion if relevant\n",
    "        suggestion = suggest_next_steps(user_message)\n",
    "        if suggestion:\n",
    "            chatbot_reply += f\"\\n\\n💡 {suggestion}\"\n",
    "        \n",
    "        return chatbot_reply\n",
    "    except Exception as e:\n",
    "        return \"I’m sorry, but I couldn’t fetch the information just now. Can you try again in a bit?\"\n",
    "\n",
    "# Humor and Visual Storytelling for Return Policy\n",
    "def format_return_policy():\n",
    "    return (\n",
    "        \"We get it—returns can feel like a hassle, but don’t worry, I’m here to help! Here’s the lowdown:\\n\\n\"\n",
    "        \"**The Basics:**\\n\"\n",
    "        \"- **Most items:** 30 days, original condition, with tags and packaging.\\n\"\n",
    "        \"- **Electronics:** 14–30 days; some may have a restocking fee.\\n\"\n",
    "        \"- **Personalized/Custom items:** Not returnable unless defective.\\n\"\n",
    "        \"- **Hygiene items:** No returns if opened, unless defective (health reasons).\\n\\n\"\n",
    "        \"🛠️ **How to Return:**\\n\"\n",
    "        \"1. Contact us for an RMA (Return Merchandise Authorization) number.\\n\"\n",
    "        \"2. Pack your item (original packaging if possible).\\n\"\n",
    "        \"3. Ship it to the address we provide.\\n\\n\"\n",
    "        \"💳 **Refunds:**\\n\"\n",
    "        \"We process refunds within 7–10 business days once we receive your item. Processing time depends on your bank/card provider.\\n\\n\"\n",
    "        \"Need more info? Just ask—I’m here to make this easy for you!\"\n",
    "    )\n",
    "\n",
    "# Interactive Chatbot with Humor and Empathy\n",
    "def interactive_chatbot():\n",
    "    print(\"💬 Hi there! I’m your friendly chatbot with a sense of humor. Type 'return policy' if you need info, or ask me anything else. Type 'exit' to leave.\\n\")\n",
    "    while True:\n",
    "        user_message = input(\"You: \")\n",
    "        if user_message.lower() == \"exit\":\n",
    "            print(\"👋 Thanks for chatting with me. Have a fantastic day!\")\n",
    "            break\n",
    "        elif user_message.lower() == \"return policy\":\n",
    "            print(format_return_policy())\n",
    "        else:\n",
    "            reply = chatbot_response(user_message)\n",
    "            print(f\"🤖 {reply}\")\n",
    "\n",
    "# Run the chatbot\n",
    "interactive_chatbot()\n"
   ]
  },
  {
   "cell_type": "code",
   "execution_count": null,
   "id": "8b5f7ec6-d9f5-4a1e-bb20-bc12e1947caf",
   "metadata": {},
   "outputs": [],
   "source": []
  }
 ],
 "metadata": {
  "kernelspec": {
   "display_name": "Python 3 (ipykernel)",
   "language": "python",
   "name": "python3"
  },
  "language_info": {
   "codemirror_mode": {
    "name": "ipython",
    "version": 3
   },
   "file_extension": ".py",
   "mimetype": "text/x-python",
   "name": "python",
   "nbconvert_exporter": "python",
   "pygments_lexer": "ipython3",
   "version": "3.9.6"
  }
 },
 "nbformat": 4,
 "nbformat_minor": 5
}
